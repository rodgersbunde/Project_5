{
 "cells": [
  {
   "cell_type": "markdown",
   "metadata": {},
   "source": [
    "## Data Dining Delight\n",
    "\n",
    "A Recipe Recommender System"
   ]
  },
  {
   "cell_type": "markdown",
   "metadata": {},
   "source": [
    "![Recipes](https://www.pngitem.com/pimgs/m/87-877725_recipes-png-transparent-png.png)"
   ]
  },
  {
   "cell_type": "markdown",
   "metadata": {},
   "source": [
    "#### Project Overview\n",
    "\n",
    "Exploring the dynamics of user behavior patterns, and recipe interactions, this project delves into the 'Recipe Reviews and User Feedback Dataset' to derive insights, develop a personalized recipe recommendation system, and enhance the culinary experience on online platforms."
   ]
  },
  {
   "cell_type": "markdown",
   "metadata": {
    "id": "vG6ohhHZ1Am9"
   },
   "source": [
    "## BACKGROUND\n",
    "\n",
    "The \"Recipe Reviews and User Feedback Dataset\" is a comprehensive repository of data encompassing various aspects of recipe reviews and user interactions. It includes essential information such as the recipe name, its ranking on the top 100 recipes list, a unique recipe code, and user details like user ID, user name, and an internal user reputation score. Each review comment is uniquely identified with a comment ID and comes with additional attributes, including the creation timestamp, reply count, and the number of up-votes and down-votes received. Users' sentiment towards recipes is quantified on a 1 to 5 star rating scale, with a score of 0 denoting an absence of rating.  It offers a window into the dynamics of recipe reviews and user feedback within the culinary website domain.\n",
    "https://archive.ics.uci.edu/dataset/911/recipe+reviews+and+user+feedback+dataset\n",
    "\n",
    "The ingredient dataset complements Recipe Reviews and User Feedback Dataset and it has 3 columns that is recipe name,ingredients and cooking instructions.This dataset was sourced from GPT AI."
   ]
  },
  {
   "cell_type": "markdown",
   "metadata": {
    "id": "EYEnVD7z0ZNw"
   },
   "source": [
    "## Business Problem\n",
    "\n",
    "Bay Bistro Food Company aims to elevate user engagement and satisfaction on its recipe platform by implementing a personalized recipe recommendation system. Despite boasting an extensive repertoire of recipes, users frequently encounter difficulties in discovering new dishes that align with their preferences. Recognizing the potential to expand its services, the company intends to introduce ingredient boxes to its offerings. The Miles group has been commissioned to tackle this issue by devising a recommendation system capable of analyzing user interactions and feedback to deliver tailored recipe suggestions, thereby enhancing the overall user experience and fostering customer loyalty."
   ]
  },
  {
   "cell_type": "markdown",
   "metadata": {
    "id": "of4Wl_WwFpbl"
   },
   "source": [
    "### Objectives\n",
    "\n",
    "**User Behavior Analysis**:\n",
    "Understand user preferences and behavior by analyzing recipe reviews, ratings, and interactions.\n",
    "Identify popular recipes and trending ingredients based on user feedback.\n",
    "\n",
    "**Personalized Recipe Recommendations:**\n",
    "Develop a recommendation algorithm to suggest recipes tailored to each user's taste and preferences.\n",
    "Utilize collaborative filtering and content-based filtering techniques to enhance personalized recommendations.\n",
    "\n",
    "**User Interface and Experience Design:**\n",
    "Develop an intuitive and user-friendly interface for users to easily browse recipes, read reviews, and receive recommendations.\n"
   ]
  },
  {
   "cell_type": "markdown",
   "metadata": {
    "id": "mM7ZH7TKgUnP"
   },
   "source": [
    "## Data Understanding\n",
    "We had two data sets recipe dataset and ingredients dataset.\n",
    "\n",
    "The recipe review and user feedback data set contains the following columns:\n",
    "1. recipe name: {name of the recipe the comment was posted on}\n",
    "2. recipe number: {placement of the recipe on the top 100 recipes list}\n",
    "3. recipe code: {unique id of the recipe used by the site}\n",
    "4. comment id: {unique id of the comment}\n",
    "5. user id: {unique id of the user who left the comment}\n",
    "6. user name: {name of the user}\n",
    "7. user reputation: {internal score of the site, roughly quantifying the past behavior of the user}\n",
    "8. create at: {time at which the comment was posted as a Unix timestamp}\n",
    "9. reply count: {number of replies to the comment}\n",
    "10. thumbs up: {number of up-votes the comment has received}\n",
    "11. thumbs down: {number of down-votes the comment has received}\n",
    "12. stars: {the score on a 1 to 5 scale that the user gave to the recipe. A score of 0 means that no score was given}\n",
    "13. best score: {score of the comment, likely used by the site the help determine the order in the comments that appear in}\n",
    "\n",
    "14. text: {the text content of the comment}\n",
    "\n"
   ]
  },
  {
   "cell_type": "markdown",
   "metadata": {},
   "source": [
    "The ingredients data set contains the following columns:\n",
    "\n",
    "1. recipe name: {name of the recipe the comment was posted on}\n",
    "2. Ingredients:lists of ingredients required for the corresponding recipe.\n",
    "3. Cooking Instructions: This column provides the step-by-step instructions for preparing each recipe. "
   ]
  },
  {
   "cell_type": "code",
   "execution_count": 1,
   "metadata": {
    "id": "cRx_pBcuvnCp"
   },
   "outputs": [],
   "source": [
    "#importing neccesary libraries\n",
    "import pandas as pd\n",
    "import numpy as np\n",
    "import matplotlib.pyplot as plt\n",
    "import seaborn as sns\n",
    "from surprise import Dataset, Reader\n",
    "from sklearn.metrics.pairwise import cosine_similarity\n",
    "from sklearn.model_selection import train_test_split,cross_validate\n",
    "from sklearn.model_selection import train_test_split\n",
    "from surprise import KNNWithMeans\n",
    "from surprise import KNNWithMeans\n",
    "from surprise.model_selection import train_test_split\n",
    "from sklearn.feature_extraction.text import TfidfVectorizer\n",
    "from sklearn.metrics.pairwise import linear_kernel\n",
    "from surprise import SVD\n",
    "from surprise.model_selection import GridSearchCV\n",
    "from surprise.model_selection import cross_validate\n",
    "import matplotlib.pyplot as plt\n",
    "np.random.seed(42)\n",
    "from keras.layers import Input, Embedding, Flatten,Concatenate, Dense\n",
    "from keras.models import Model\n",
    "import tensorflow as tf\n",
    "tf.random.set_seed(42)\n",
    "from surprise import accuracy\n",
    "import warnings"
   ]
  },
  {
   "cell_type": "code",
   "execution_count": 2,
   "metadata": {
    "colab": {
     "base_uri": "https://localhost:8080/",
     "height": 400
    },
    "id": "vlijKoi0v5EX",
    "outputId": "59b4bd1a-3369-4670-c466-59da575a9ada"
   },
   "outputs": [
    {
     "data": {
      "text/html": [
       "<div>\n",
       "<style scoped>\n",
       "    .dataframe tbody tr th:only-of-type {\n",
       "        vertical-align: middle;\n",
       "    }\n",
       "\n",
       "    .dataframe tbody tr th {\n",
       "        vertical-align: top;\n",
       "    }\n",
       "\n",
       "    .dataframe thead th {\n",
       "        text-align: right;\n",
       "    }\n",
       "</style>\n",
       "<table border=\"1\" class=\"dataframe\">\n",
       "  <thead>\n",
       "    <tr style=\"text-align: right;\">\n",
       "      <th></th>\n",
       "      <th>recipe_number</th>\n",
       "      <th>recipe_code</th>\n",
       "      <th>recipe_name</th>\n",
       "      <th>comment_id</th>\n",
       "      <th>user_id</th>\n",
       "      <th>user_name</th>\n",
       "      <th>user_reputation</th>\n",
       "      <th>created_at</th>\n",
       "      <th>reply_count</th>\n",
       "      <th>thumbs_up</th>\n",
       "      <th>thumbs_down</th>\n",
       "      <th>stars</th>\n",
       "      <th>best_score</th>\n",
       "      <th>text</th>\n",
       "    </tr>\n",
       "  </thead>\n",
       "  <tbody>\n",
       "    <tr>\n",
       "      <th>0</th>\n",
       "      <td>1</td>\n",
       "      <td>14299</td>\n",
       "      <td>Creamy White Chili</td>\n",
       "      <td>sp_aUSaElGf_14299_c_2G3aneMRgRMZwXqIHmSdXSG1hEM</td>\n",
       "      <td>u_9iFLIhMa8QaG</td>\n",
       "      <td>Jeri326</td>\n",
       "      <td>1</td>\n",
       "      <td>1665619889</td>\n",
       "      <td>0.0</td>\n",
       "      <td>0</td>\n",
       "      <td>0</td>\n",
       "      <td>5</td>\n",
       "      <td>527</td>\n",
       "      <td>I tweaked it a little, removed onions because ...</td>\n",
       "    </tr>\n",
       "    <tr>\n",
       "      <th>1</th>\n",
       "      <td>1</td>\n",
       "      <td>14299</td>\n",
       "      <td>Creamy White Chili</td>\n",
       "      <td>sp_aUSaElGf_14299_c_2FsPC83HtzCsQAtOxlbL6RcaPbY</td>\n",
       "      <td>u_Lu6p25tmE77j</td>\n",
       "      <td>Mark467</td>\n",
       "      <td>50</td>\n",
       "      <td>1665277687</td>\n",
       "      <td>0.0</td>\n",
       "      <td>7</td>\n",
       "      <td>0</td>\n",
       "      <td>5</td>\n",
       "      <td>724</td>\n",
       "      <td>Bush used to have a white chili bean and it ma...</td>\n",
       "    </tr>\n",
       "    <tr>\n",
       "      <th>2</th>\n",
       "      <td>1</td>\n",
       "      <td>14299</td>\n",
       "      <td>Creamy White Chili</td>\n",
       "      <td>sp_aUSaElGf_14299_c_2FPrSGyTv7PQkZq37j92r9mYGkP</td>\n",
       "      <td>u_s0LwgpZ8Jsqq</td>\n",
       "      <td>Barbara566</td>\n",
       "      <td>10</td>\n",
       "      <td>1664404557</td>\n",
       "      <td>0.0</td>\n",
       "      <td>3</td>\n",
       "      <td>0</td>\n",
       "      <td>5</td>\n",
       "      <td>710</td>\n",
       "      <td>I have a very complicated white chicken chili ...</td>\n",
       "    </tr>\n",
       "    <tr>\n",
       "      <th>3</th>\n",
       "      <td>1</td>\n",
       "      <td>14299</td>\n",
       "      <td>Creamy White Chili</td>\n",
       "      <td>sp_aUSaElGf_14299_c_2DzdSIgV9qNiuBaLoZ7JQaartoC</td>\n",
       "      <td>u_fqrybAdYjgjG</td>\n",
       "      <td>jeansch123</td>\n",
       "      <td>1</td>\n",
       "      <td>1661787808</td>\n",
       "      <td>2.0</td>\n",
       "      <td>2</td>\n",
       "      <td>0</td>\n",
       "      <td>0</td>\n",
       "      <td>581</td>\n",
       "      <td>In your introduction, you mentioned cream chee...</td>\n",
       "    </tr>\n",
       "    <tr>\n",
       "      <th>4</th>\n",
       "      <td>1</td>\n",
       "      <td>14299</td>\n",
       "      <td>Creamy White Chili</td>\n",
       "      <td>sp_aUSaElGf_14299_c_2DtZJuRQYeTFwXBoZRfRhBPEXjI</td>\n",
       "      <td>u_XXWKwVhKZD69</td>\n",
       "      <td>camper77</td>\n",
       "      <td>10</td>\n",
       "      <td>1664913823</td>\n",
       "      <td>1.0</td>\n",
       "      <td>7</td>\n",
       "      <td>0</td>\n",
       "      <td>0</td>\n",
       "      <td>820</td>\n",
       "      <td>Wonderful! I made this for a &amp;#34;Chili/Stew&amp;#...</td>\n",
       "    </tr>\n",
       "  </tbody>\n",
       "</table>\n",
       "</div>"
      ],
      "text/plain": [
       "   recipe_number  recipe_code         recipe_name  \\\n",
       "0              1        14299  Creamy White Chili   \n",
       "1              1        14299  Creamy White Chili   \n",
       "2              1        14299  Creamy White Chili   \n",
       "3              1        14299  Creamy White Chili   \n",
       "4              1        14299  Creamy White Chili   \n",
       "\n",
       "                                        comment_id         user_id  \\\n",
       "0  sp_aUSaElGf_14299_c_2G3aneMRgRMZwXqIHmSdXSG1hEM  u_9iFLIhMa8QaG   \n",
       "1  sp_aUSaElGf_14299_c_2FsPC83HtzCsQAtOxlbL6RcaPbY  u_Lu6p25tmE77j   \n",
       "2  sp_aUSaElGf_14299_c_2FPrSGyTv7PQkZq37j92r9mYGkP  u_s0LwgpZ8Jsqq   \n",
       "3  sp_aUSaElGf_14299_c_2DzdSIgV9qNiuBaLoZ7JQaartoC  u_fqrybAdYjgjG   \n",
       "4  sp_aUSaElGf_14299_c_2DtZJuRQYeTFwXBoZRfRhBPEXjI  u_XXWKwVhKZD69   \n",
       "\n",
       "    user_name  user_reputation  created_at  reply_count  thumbs_up  \\\n",
       "0     Jeri326                1  1665619889          0.0          0   \n",
       "1     Mark467               50  1665277687          0.0          7   \n",
       "2  Barbara566               10  1664404557          0.0          3   \n",
       "3  jeansch123                1  1661787808          2.0          2   \n",
       "4    camper77               10  1664913823          1.0          7   \n",
       "\n",
       "   thumbs_down  stars  best_score  \\\n",
       "0            0      5         527   \n",
       "1            0      5         724   \n",
       "2            0      5         710   \n",
       "3            0      0         581   \n",
       "4            0      0         820   \n",
       "\n",
       "                                                text  \n",
       "0  I tweaked it a little, removed onions because ...  \n",
       "1  Bush used to have a white chili bean and it ma...  \n",
       "2  I have a very complicated white chicken chili ...  \n",
       "3  In your introduction, you mentioned cream chee...  \n",
       "4  Wonderful! I made this for a &#34;Chili/Stew&#...  "
      ]
     },
     "execution_count": 2,
     "metadata": {},
     "output_type": "execute_result"
    }
   ],
   "source": [
    "#loading the recipe review and user feedback data set\n",
    "df1=pd.read_csv('Recipe.csv',index_col=0)\n",
    "df1.head()"
   ]
  },
  {
   "cell_type": "code",
   "execution_count": 3,
   "metadata": {
    "colab": {
     "base_uri": "https://localhost:8080/",
     "height": 206
    },
    "id": "K_NnNUx9lprQ",
    "outputId": "dde5f61b-c6af-4a97-a326-1130aa75df3d"
   },
   "outputs": [
    {
     "data": {
      "text/html": [
       "<div>\n",
       "<style scoped>\n",
       "    .dataframe tbody tr th:only-of-type {\n",
       "        vertical-align: middle;\n",
       "    }\n",
       "\n",
       "    .dataframe tbody tr th {\n",
       "        vertical-align: top;\n",
       "    }\n",
       "\n",
       "    .dataframe thead th {\n",
       "        text-align: right;\n",
       "    }\n",
       "</style>\n",
       "<table border=\"1\" class=\"dataframe\">\n",
       "  <thead>\n",
       "    <tr style=\"text-align: right;\">\n",
       "      <th></th>\n",
       "      <th>recipe_name</th>\n",
       "      <th>ingredients</th>\n",
       "      <th>cooking_instructions</th>\n",
       "    </tr>\n",
       "  </thead>\n",
       "  <tbody>\n",
       "    <tr>\n",
       "      <th>0</th>\n",
       "      <td>Creamy White Chili</td>\n",
       "      <td>1 lb chicken breast, diced\\r\\n1 onion, chopped...</td>\n",
       "      <td>In a large pot, cook diced chicken breast unti...</td>\n",
       "    </tr>\n",
       "    <tr>\n",
       "      <th>1</th>\n",
       "      <td>Best Ever Banana Bread</td>\n",
       "      <td>2-3 ripe bananas, mashed\\r\\n1/3 cup melted but...</td>\n",
       "      <td>1. Preheat oven to 350°F (175°C). Grease a 9x5...</td>\n",
       "    </tr>\n",
       "    <tr>\n",
       "      <th>2</th>\n",
       "      <td>Cheeseburger Soup</td>\n",
       "      <td>1 lb ground beef\\r\\n1 onion, chopped\\r\\n2 clov...</td>\n",
       "      <td>1. In a large pot, brown ground beef over medi...</td>\n",
       "    </tr>\n",
       "    <tr>\n",
       "      <th>3</th>\n",
       "      <td>Amish Breakfast Casserole</td>\n",
       "      <td>6 slices bread, cubed\\r\\n1 lb bulk pork sausag...</td>\n",
       "      <td>1. Preheat oven to 350°F (175°C). Grease a 9x1...</td>\n",
       "    </tr>\n",
       "    <tr>\n",
       "      <th>4</th>\n",
       "      <td>Pumpkin Spice Cupcakes with Cream Cheese Frosting</td>\n",
       "      <td>For the cupcakes:\\r\\n1 1/2 cups all-purpose fl...</td>\n",
       "      <td>For the cupcakes:\\r\\n1. Preheat oven to 350°F ...</td>\n",
       "    </tr>\n",
       "  </tbody>\n",
       "</table>\n",
       "</div>"
      ],
      "text/plain": [
       "                                         recipe_name  \\\n",
       "0                                 Creamy White Chili   \n",
       "1                             Best Ever Banana Bread   \n",
       "2                                  Cheeseburger Soup   \n",
       "3                          Amish Breakfast Casserole   \n",
       "4  Pumpkin Spice Cupcakes with Cream Cheese Frosting   \n",
       "\n",
       "                                         ingredients  \\\n",
       "0  1 lb chicken breast, diced\\r\\n1 onion, chopped...   \n",
       "1  2-3 ripe bananas, mashed\\r\\n1/3 cup melted but...   \n",
       "2  1 lb ground beef\\r\\n1 onion, chopped\\r\\n2 clov...   \n",
       "3  6 slices bread, cubed\\r\\n1 lb bulk pork sausag...   \n",
       "4  For the cupcakes:\\r\\n1 1/2 cups all-purpose fl...   \n",
       "\n",
       "                                cooking_instructions  \n",
       "0  In a large pot, cook diced chicken breast unti...  \n",
       "1  1. Preheat oven to 350°F (175°C). Grease a 9x5...  \n",
       "2  1. In a large pot, brown ground beef over medi...  \n",
       "3  1. Preheat oven to 350°F (175°C). Grease a 9x1...  \n",
       "4  For the cupcakes:\\r\\n1. Preheat oven to 350°F ...  "
      ]
     },
     "execution_count": 3,
     "metadata": {},
     "output_type": "execute_result"
    }
   ],
   "source": [
    "#loading the ingredients data set\n",
    "df2=pd.read_csv('ingredients.csv')\n",
    "df2.head()"
   ]
  },
  {
   "cell_type": "code",
   "execution_count": 4,
   "metadata": {
    "colab": {
     "base_uri": "https://localhost:8080/"
    },
    "id": "aAkrefsRnDxi",
    "outputId": "b5a18f3f-1ecd-4b95-df95-cf95a925ae30"
   },
   "outputs": [
    {
     "data": {
      "text/plain": [
       "(100, 3)"
      ]
     },
     "execution_count": 4,
     "metadata": {},
     "output_type": "execute_result"
    }
   ],
   "source": [
    "#checking ingredients data shape\n",
    "df2.shape"
   ]
  },
  {
   "cell_type": "markdown",
   "metadata": {},
   "source": [
    "- The data set has 100 observations and 3 columns "
   ]
  },
  {
   "cell_type": "code",
   "execution_count": 5,
   "metadata": {
    "colab": {
     "base_uri": "https://localhost:8080/"
    },
    "id": "pzdFZzKuy-bz",
    "outputId": "74a3dc57-0d7a-4a49-dcb0-ca5e89247414"
   },
   "outputs": [
    {
     "data": {
      "text/plain": [
       "(18182, 14)"
      ]
     },
     "execution_count": 5,
     "metadata": {},
     "output_type": "execute_result"
    }
   ],
   "source": [
    "#checking recipe review and user feedback data shape\n",
    "df1.shape"
   ]
  },
  {
   "cell_type": "markdown",
   "metadata": {},
   "source": [
    "- The data set has 18182 observations and 14 columns"
   ]
  },
  {
   "cell_type": "code",
   "execution_count": 6,
   "metadata": {
    "colab": {
     "base_uri": "https://localhost:8080/"
    },
    "id": "947aG5epcRyE",
    "outputId": "c11b2148-9ff4-4eb8-f676-bb4b4d1f9ba8"
   },
   "outputs": [
    {
     "name": "stdout",
     "output_type": "stream",
     "text": [
      "<class 'pandas.core.frame.DataFrame'>\n",
      "Index: 18182 entries, 0 to 118\n",
      "Data columns (total 14 columns):\n",
      " #   Column           Non-Null Count  Dtype  \n",
      "---  ------           --------------  -----  \n",
      " 0   recipe_number    18182 non-null  int64  \n",
      " 1   recipe_code      18182 non-null  int64  \n",
      " 2   recipe_name      18182 non-null  object \n",
      " 3   comment_id       18182 non-null  object \n",
      " 4   user_id          18182 non-null  object \n",
      " 5   user_name        18182 non-null  object \n",
      " 6   user_reputation  18182 non-null  int64  \n",
      " 7   created_at       18182 non-null  int64  \n",
      " 8   reply_count      18160 non-null  float64\n",
      " 9   thumbs_up        18182 non-null  int64  \n",
      " 10  thumbs_down      18182 non-null  int64  \n",
      " 11  stars            18182 non-null  int64  \n",
      " 12  best_score       18182 non-null  int64  \n",
      " 13  text             18180 non-null  object \n",
      "dtypes: float64(1), int64(8), object(5)\n",
      "memory usage: 2.1+ MB\n"
     ]
    }
   ],
   "source": [
    "#checking data information\n",
    "df1.info()"
   ]
  },
  {
   "cell_type": "markdown",
   "metadata": {},
   "source": [
    "`Observation`\n",
    "\n",
    "- Missing Data:reply_count has 22 missing values and text has 2 missing values\n",
    "\n",
    "- Data Types:8 columns are integers (int64),1 column is float (float64) and 5 columns are strings/text (object)\n"
   ]
  },
  {
   "cell_type": "code",
   "execution_count": 7,
   "metadata": {
    "colab": {
     "base_uri": "https://localhost:8080/"
    },
    "id": "yjo1ohj9qxBV",
    "outputId": "8c16a344-09a9-4ee0-b8d5-b9d04ae8b249"
   },
   "outputs": [
    {
     "name": "stdout",
     "output_type": "stream",
     "text": [
      "<class 'pandas.core.frame.DataFrame'>\n",
      "RangeIndex: 100 entries, 0 to 99\n",
      "Data columns (total 3 columns):\n",
      " #   Column                Non-Null Count  Dtype \n",
      "---  ------                --------------  ----- \n",
      " 0   recipe_name           100 non-null    object\n",
      " 1   ingredients           99 non-null     object\n",
      " 2   cooking_instructions  100 non-null    object\n",
      "dtypes: object(3)\n",
      "memory usage: 2.5+ KB\n"
     ]
    }
   ],
   "source": [
    "#checking data information\n",
    "df2.info()"
   ]
  },
  {
   "cell_type": "markdown",
   "metadata": {},
   "source": [
    "`Observation`\n",
    "- The data set has type object one row has missing ingredients"
   ]
  },
  {
   "cell_type": "markdown",
   "metadata": {
    "id": "EzXwz5CA3isK"
   },
   "source": [
    "## DATA PREPROCESSING\n",
    "\n",
    "Data Cleaning"
   ]
  },
  {
   "cell_type": "markdown",
   "metadata": {
    "id": "1FBL7HP7lvhA"
   },
   "source": [
    "To ensure the development of a robust and accurate model, several data cleaning techniques will be applied to the dataset. The following techniques will be employed:\n",
    "\n",
    "- Completeness: This technique involves addressing missing values within the dataset. Steps will be taken to identify and handle missing data appropriately, either through imputation or removal, to ensure that the dataset is complete.\n",
    "\n",
    "- Consistency: The consistency of the data will be examined to identify any discrepancies or irregularities. Inconsistencies in variables, such as conflicting formats or conflicting information within the dataset, will be addressed and resolved to maintain data integrity.\n",
    "\n",
    "- Validity: Validity refers to the accuracy and relevance of the data. Data validation techniques will be applied to verify that the values within each variable align with expected ranges or predefined criteria. Any invalid or erroneous data points will be rectified or removed from the dataset.\n",
    "\n",
    "- Uniformity: Uniformity is crucial during the data cleaning process to ensure consistency and accurate analysis. Inconsistent or non-uniform data can introduce errors and bias into the modeling process, leading to unreliable results. Robust techniques will be employed to detect and handle non-uniformity effectively, ensuring that the data is standardized and aligned.\n",
    "\n",
    "By applying these data cleaning techniques, the dataset will be refined and prepared, ensuring the reliability and accuracy of the data before proceeding with the subsequent stages of analysis and modeling."
   ]
  },
  {
   "cell_type": "markdown",
   "metadata": {
    "id": "o0Ma9-YIl4Gj"
   },
   "source": [
    "### Completeness\n",
    "To achieve completeness in our data, I will be checking for missing values in the data."
   ]
  },
  {
   "cell_type": "code",
   "execution_count": 8,
   "metadata": {
    "colab": {
     "base_uri": "https://localhost:8080/"
    },
    "id": "-P7jIrOCl05J",
    "outputId": "02c95446-3efa-456b-d4a9-a61e82904680"
   },
   "outputs": [
    {
     "name": "stdout",
     "output_type": "stream",
     "text": [
      "The data has 24 missing values\n"
     ]
    }
   ],
   "source": [
    "# Checking for null values in df1\n",
    "missing_values = df1.isna().sum().sum()\n",
    "print(f'The data has {missing_values} missing values')"
   ]
  },
  {
   "cell_type": "code",
   "execution_count": 9,
   "metadata": {
    "colab": {
     "base_uri": "https://localhost:8080/"
    },
    "id": "0QDPVIlLNSew",
    "outputId": "4ee76ec7-3592-4af9-88b2-ec573e602e28"
   },
   "outputs": [
    {
     "name": "stdout",
     "output_type": "stream",
     "text": [
      "The data has 1 missing values\n"
     ]
    }
   ],
   "source": [
    "# Checking for null values in df2\n",
    "missing_values=df2.isna().sum().sum()\n",
    "print(f'The data has {missing_values} missing values')"
   ]
  },
  {
   "cell_type": "code",
   "execution_count": 10,
   "metadata": {
    "id": "zqY9_TMkmdKf"
   },
   "outputs": [],
   "source": [
    "# Define a function to explore missing data for recipe data set\n",
    "def missing_data(df1):\n",
    "    missing_data = df1.isna().sum()\n",
    "    missing_data = missing_data[missing_data>0]\n",
    "    return missing_data.to_frame()"
   ]
  },
  {
   "cell_type": "code",
   "execution_count": 11,
   "metadata": {
    "id": "8Avzk_8dNXMN"
   },
   "outputs": [],
   "source": [
    "# Define a function to explore missing data for ingridients data sert\n",
    "def missing_data(df2):\n",
    "    missing_data = df2.isna().sum()\n",
    "    missing_data = missing_data[missing_data>0]\n",
    "    return missing_data.to_frame()"
   ]
  },
  {
   "cell_type": "code",
   "execution_count": 12,
   "metadata": {
    "id": "SIpFd24zmfev"
   },
   "outputs": [],
   "source": [
    "# expanding the number of visible columns\n",
    "pd.set_option('display.max_columns', None)"
   ]
  },
  {
   "cell_type": "code",
   "execution_count": 13,
   "metadata": {
    "colab": {
     "base_uri": "https://localhost:8080/",
     "height": 81
    },
    "id": "q9CaTK7UmhyW",
    "outputId": "23de071b-0f74-4bcf-cb13-55c6c7bec3cd"
   },
   "outputs": [
    {
     "data": {
      "text/html": [
       "<div>\n",
       "<style scoped>\n",
       "    .dataframe tbody tr th:only-of-type {\n",
       "        vertical-align: middle;\n",
       "    }\n",
       "\n",
       "    .dataframe tbody tr th {\n",
       "        vertical-align: top;\n",
       "    }\n",
       "\n",
       "    .dataframe thead th {\n",
       "        text-align: right;\n",
       "    }\n",
       "</style>\n",
       "<table border=\"1\" class=\"dataframe\">\n",
       "  <thead>\n",
       "    <tr style=\"text-align: right;\">\n",
       "      <th></th>\n",
       "      <th>reply_count</th>\n",
       "      <th>text</th>\n",
       "    </tr>\n",
       "  </thead>\n",
       "  <tbody>\n",
       "    <tr>\n",
       "      <th>0</th>\n",
       "      <td>22</td>\n",
       "      <td>2</td>\n",
       "    </tr>\n",
       "  </tbody>\n",
       "</table>\n",
       "</div>"
      ],
      "text/plain": [
       "   reply_count  text\n",
       "0           22     2"
      ]
     },
     "execution_count": 13,
     "metadata": {},
     "output_type": "execute_result"
    }
   ],
   "source": [
    "# Apply missing_data function to the dataframe\n",
    "missing_data(df1).T"
   ]
  },
  {
   "cell_type": "markdown",
   "metadata": {},
   "source": [
    "`Observation`\n",
    "- The results shows reply_count has 22 missing values while text has 2 missing values"
   ]
  },
  {
   "cell_type": "code",
   "execution_count": 14,
   "metadata": {
    "colab": {
     "base_uri": "https://localhost:8080/",
     "height": 81
    },
    "id": "AOpmQzWzNhWP",
    "outputId": "b41159c5-18ab-406b-ebea-a3fd7f34272d"
   },
   "outputs": [
    {
     "data": {
      "text/html": [
       "<div>\n",
       "<style scoped>\n",
       "    .dataframe tbody tr th:only-of-type {\n",
       "        vertical-align: middle;\n",
       "    }\n",
       "\n",
       "    .dataframe tbody tr th {\n",
       "        vertical-align: top;\n",
       "    }\n",
       "\n",
       "    .dataframe thead th {\n",
       "        text-align: right;\n",
       "    }\n",
       "</style>\n",
       "<table border=\"1\" class=\"dataframe\">\n",
       "  <thead>\n",
       "    <tr style=\"text-align: right;\">\n",
       "      <th></th>\n",
       "      <th>ingredients</th>\n",
       "    </tr>\n",
       "  </thead>\n",
       "  <tbody>\n",
       "    <tr>\n",
       "      <th>0</th>\n",
       "      <td>1</td>\n",
       "    </tr>\n",
       "  </tbody>\n",
       "</table>\n",
       "</div>"
      ],
      "text/plain": [
       "   ingredients\n",
       "0            1"
      ]
     },
     "execution_count": 14,
     "metadata": {},
     "output_type": "execute_result"
    }
   ],
   "source": [
    "# Apply missing_data function to the dataframe\n",
    "missing_data(df2).T"
   ]
  },
  {
   "cell_type": "markdown",
   "metadata": {},
   "source": [
    "`Observation`\n",
    "- The output shows ingredients have 1 missing value"
   ]
  },
  {
   "cell_type": "code",
   "execution_count": 15,
   "metadata": {
    "id": "6OnkvKw-mvx8"
   },
   "outputs": [],
   "source": [
    "#Fill missing values in 'reply_count' column with 0\n",
    "df1['reply_count'] = df1['reply_count'].fillna(0)"
   ]
  },
  {
   "cell_type": "code",
   "execution_count": 16,
   "metadata": {
    "id": "c-57TW67nxwe"
   },
   "outputs": [],
   "source": [
    "# Droping rows where the \"text\" column is missing\n",
    "df1 = df1.dropna(subset=['text'])"
   ]
  },
  {
   "cell_type": "code",
   "execution_count": 17,
   "metadata": {
    "id": "W-ej03rkjuSy"
   },
   "outputs": [],
   "source": [
    "# Droping rows where the \"ingredients\" column is missing\n",
    "df2 = df2.dropna(subset=['ingredients'])"
   ]
  },
  {
   "cell_type": "code",
   "execution_count": 18,
   "metadata": {
    "colab": {
     "base_uri": "https://localhost:8080/"
    },
    "id": "1XWMRyKUwsu1",
    "outputId": "6f0ecbcf-eedf-47be-e7a0-496dce097726"
   },
   "outputs": [],
   "source": [
    "# converting 'created_at' to datetime\n",
    "df1['created_at'] = pd.to_datetime(df1['created_at'], unit='s')"
   ]
  },
  {
   "cell_type": "code",
   "execution_count": 19,
   "metadata": {
    "colab": {
     "base_uri": "https://localhost:8080/"
    },
    "id": "Z7nQv-Alm6nO",
    "outputId": "ff7a1849-9d5f-4ea9-9d2e-b106f3c29771"
   },
   "outputs": [
    {
     "name": "stdout",
     "output_type": "stream",
     "text": [
      "The data has 0 missing values\n"
     ]
    }
   ],
   "source": [
    "# checking to see if missing values have been replaced for recipe data\n",
    "print(f'The data has {df1.isna().sum().sum()} missing values')"
   ]
  },
  {
   "cell_type": "code",
   "execution_count": 20,
   "metadata": {
    "colab": {
     "base_uri": "https://localhost:8080/"
    },
    "id": "efYAb8n7Nzhj",
    "outputId": "c41d23dd-d69f-440a-de7c-e3023f8bf6a8"
   },
   "outputs": [
    {
     "name": "stdout",
     "output_type": "stream",
     "text": [
      "The data has 0 missing values\n"
     ]
    }
   ],
   "source": [
    "# checking to see if missing values have been replaced for ingridients data\n",
    "print(f'The data has {df2.isna().sum().sum()} missing values')"
   ]
  },
  {
   "cell_type": "markdown",
   "metadata": {
    "id": "ItjK_O_GrkMU"
   },
   "source": [
    "### Consistency\n",
    "For the data to be constistent, I need to resolve any inconsistencies by checking for duplicate values in our data."
   ]
  },
  {
   "cell_type": "code",
   "execution_count": 21,
   "metadata": {
    "colab": {
     "base_uri": "https://localhost:8080/"
    },
    "id": "enKQk7w7reP_",
    "outputId": "6f0d370f-7f9d-4e05-9f32-5690ba494e67"
   },
   "outputs": [
    {
     "name": "stdout",
     "output_type": "stream",
     "text": [
      "The data has 0 duplicates\n"
     ]
    }
   ],
   "source": [
    "# checking for duplicates for recipe data set\n",
    "print(f'The data has {df1.duplicated().sum()} duplicates')"
   ]
  },
  {
   "cell_type": "code",
   "execution_count": 22,
   "metadata": {
    "colab": {
     "base_uri": "https://localhost:8080/"
    },
    "id": "kwZqMQViN7CN",
    "outputId": "fc51c682-6b9a-4dff-b5d2-f9cc6a56cd65"
   },
   "outputs": [
    {
     "name": "stdout",
     "output_type": "stream",
     "text": [
      "The data has 0 duplicates\n"
     ]
    }
   ],
   "source": [
    "# checking for duplicates for ingridients data\n",
    "print(f'The data has {df2.duplicated().sum()} duplicates')"
   ]
  },
  {
   "cell_type": "markdown",
   "metadata": {
    "id": "cezifzuRr1U8"
   },
   "source": [
    "- The data has no duplicate values"
   ]
  },
  {
   "cell_type": "markdown",
   "metadata": {
    "id": "HEDQVHgmr8_i"
   },
   "source": [
    "### Validity\n",
    "\n",
    "For our data to be valid, I have to verify that every column is accurate and appropriate for this analysis and remove those that are invalid."
   ]
  },
  {
   "cell_type": "code",
   "execution_count": 23,
   "metadata": {
    "colab": {
     "base_uri": "https://localhost:8080/",
     "height": 358
    },
    "id": "cCIPop6wsBUK",
    "outputId": "af69f356-275f-4519-a439-533ae8e71e27"
   },
   "outputs": [
    {
     "data": {
      "text/html": [
       "<div>\n",
       "<style scoped>\n",
       "    .dataframe tbody tr th:only-of-type {\n",
       "        vertical-align: middle;\n",
       "    }\n",
       "\n",
       "    .dataframe tbody tr th {\n",
       "        vertical-align: top;\n",
       "    }\n",
       "\n",
       "    .dataframe thead th {\n",
       "        text-align: right;\n",
       "    }\n",
       "</style>\n",
       "<table border=\"1\" class=\"dataframe\">\n",
       "  <thead>\n",
       "    <tr style=\"text-align: right;\">\n",
       "      <th></th>\n",
       "      <th>recipe_number</th>\n",
       "      <th>recipe_code</th>\n",
       "      <th>recipe_name</th>\n",
       "      <th>comment_id</th>\n",
       "      <th>user_id</th>\n",
       "      <th>user_name</th>\n",
       "      <th>user_reputation</th>\n",
       "      <th>created_at</th>\n",
       "      <th>reply_count</th>\n",
       "      <th>thumbs_up</th>\n",
       "      <th>thumbs_down</th>\n",
       "      <th>stars</th>\n",
       "      <th>best_score</th>\n",
       "      <th>text</th>\n",
       "    </tr>\n",
       "  </thead>\n",
       "  <tbody>\n",
       "    <tr>\n",
       "      <th>0</th>\n",
       "      <td>1</td>\n",
       "      <td>14299</td>\n",
       "      <td>Creamy White Chili</td>\n",
       "      <td>sp_aUSaElGf_14299_c_2G3aneMRgRMZwXqIHmSdXSG1hEM</td>\n",
       "      <td>u_9iFLIhMa8QaG</td>\n",
       "      <td>Jeri326</td>\n",
       "      <td>1</td>\n",
       "      <td>2022-10-13 00:11:29</td>\n",
       "      <td>0.0</td>\n",
       "      <td>0</td>\n",
       "      <td>0</td>\n",
       "      <td>5</td>\n",
       "      <td>527</td>\n",
       "      <td>I tweaked it a little, removed onions because ...</td>\n",
       "    </tr>\n",
       "    <tr>\n",
       "      <th>1</th>\n",
       "      <td>1</td>\n",
       "      <td>14299</td>\n",
       "      <td>Creamy White Chili</td>\n",
       "      <td>sp_aUSaElGf_14299_c_2FsPC83HtzCsQAtOxlbL6RcaPbY</td>\n",
       "      <td>u_Lu6p25tmE77j</td>\n",
       "      <td>Mark467</td>\n",
       "      <td>50</td>\n",
       "      <td>2022-10-09 01:08:07</td>\n",
       "      <td>0.0</td>\n",
       "      <td>7</td>\n",
       "      <td>0</td>\n",
       "      <td>5</td>\n",
       "      <td>724</td>\n",
       "      <td>Bush used to have a white chili bean and it ma...</td>\n",
       "    </tr>\n",
       "  </tbody>\n",
       "</table>\n",
       "</div>"
      ],
      "text/plain": [
       "   recipe_number  recipe_code         recipe_name  \\\n",
       "0              1        14299  Creamy White Chili   \n",
       "1              1        14299  Creamy White Chili   \n",
       "\n",
       "                                        comment_id         user_id user_name  \\\n",
       "0  sp_aUSaElGf_14299_c_2G3aneMRgRMZwXqIHmSdXSG1hEM  u_9iFLIhMa8QaG   Jeri326   \n",
       "1  sp_aUSaElGf_14299_c_2FsPC83HtzCsQAtOxlbL6RcaPbY  u_Lu6p25tmE77j   Mark467   \n",
       "\n",
       "   user_reputation          created_at  reply_count  thumbs_up  thumbs_down  \\\n",
       "0                1 2022-10-13 00:11:29          0.0          0            0   \n",
       "1               50 2022-10-09 01:08:07          0.0          7            0   \n",
       "\n",
       "   stars  best_score                                               text  \n",
       "0      5         527  I tweaked it a little, removed onions because ...  \n",
       "1      5         724  Bush used to have a white chili bean and it ma...  "
      ]
     },
     "execution_count": 23,
     "metadata": {},
     "output_type": "execute_result"
    }
   ],
   "source": [
    "#validity checks\n",
    "df1.head(2)"
   ]
  },
  {
   "cell_type": "code",
   "execution_count": 24,
   "metadata": {
    "colab": {
     "base_uri": "https://localhost:8080/",
     "height": 112
    },
    "id": "GfHZsM0yOnvD",
    "outputId": "39eac9fa-7e69-440c-cabb-af0d943f3c64"
   },
   "outputs": [
    {
     "data": {
      "text/html": [
       "<div>\n",
       "<style scoped>\n",
       "    .dataframe tbody tr th:only-of-type {\n",
       "        vertical-align: middle;\n",
       "    }\n",
       "\n",
       "    .dataframe tbody tr th {\n",
       "        vertical-align: top;\n",
       "    }\n",
       "\n",
       "    .dataframe thead th {\n",
       "        text-align: right;\n",
       "    }\n",
       "</style>\n",
       "<table border=\"1\" class=\"dataframe\">\n",
       "  <thead>\n",
       "    <tr style=\"text-align: right;\">\n",
       "      <th></th>\n",
       "      <th>recipe_name</th>\n",
       "      <th>ingredients</th>\n",
       "      <th>cooking_instructions</th>\n",
       "    </tr>\n",
       "  </thead>\n",
       "  <tbody>\n",
       "    <tr>\n",
       "      <th>0</th>\n",
       "      <td>Creamy White Chili</td>\n",
       "      <td>1 lb chicken breast, diced\\r\\n1 onion, chopped...</td>\n",
       "      <td>In a large pot, cook diced chicken breast unti...</td>\n",
       "    </tr>\n",
       "    <tr>\n",
       "      <th>1</th>\n",
       "      <td>Best Ever Banana Bread</td>\n",
       "      <td>2-3 ripe bananas, mashed\\r\\n1/3 cup melted but...</td>\n",
       "      <td>1. Preheat oven to 350°F (175°C). Grease a 9x5...</td>\n",
       "    </tr>\n",
       "  </tbody>\n",
       "</table>\n",
       "</div>"
      ],
      "text/plain": [
       "              recipe_name                                        ingredients  \\\n",
       "0      Creamy White Chili  1 lb chicken breast, diced\\r\\n1 onion, chopped...   \n",
       "1  Best Ever Banana Bread  2-3 ripe bananas, mashed\\r\\n1/3 cup melted but...   \n",
       "\n",
       "                                cooking_instructions  \n",
       "0  In a large pot, cook diced chicken breast unti...  \n",
       "1  1. Preheat oven to 350°F (175°C). Grease a 9x5...  "
      ]
     },
     "execution_count": 24,
     "metadata": {},
     "output_type": "execute_result"
    }
   ],
   "source": [
    "#validity checks\n",
    "df2.head(2)"
   ]
  },
  {
   "cell_type": "markdown",
   "metadata": {
    "id": "9-v_QBb1ul4B"
   },
   "source": [
    "### Uniformity\n",
    "- For our data to be uniform, I have to verify that every column is correct and convert them to there appropriate data type."
   ]
  },
  {
   "cell_type": "code",
   "execution_count": 25,
   "metadata": {
    "colab": {
     "base_uri": "https://localhost:8080/"
    },
    "id": "_2v7dnZvuoTi",
    "outputId": "12fd1b86-00e8-4a01-f985-a7bae11cf857"
   },
   "outputs": [
    {
     "data": {
      "text/plain": [
       "recipe_number               int64\n",
       "recipe_code                 int64\n",
       "recipe_name                object\n",
       "comment_id                 object\n",
       "user_id                    object\n",
       "user_name                  object\n",
       "user_reputation             int64\n",
       "created_at         datetime64[ns]\n",
       "reply_count               float64\n",
       "thumbs_up                   int64\n",
       "thumbs_down                 int64\n",
       "stars                       int64\n",
       "best_score                  int64\n",
       "text                       object\n",
       "dtype: object"
      ]
     },
     "execution_count": 25,
     "metadata": {},
     "output_type": "execute_result"
    }
   ],
   "source": [
    "#checking for data types\n",
    "df1.dtypes"
   ]
  },
  {
   "cell_type": "code",
   "execution_count": 26,
   "metadata": {
    "id": "K5G7n1uWux2_"
   },
   "outputs": [],
   "source": [
    "#Converting data types 'reply_count' to integer\n",
    "df1['reply_count'] = df1['reply_count'].astype(int)"
   ]
  },
  {
   "cell_type": "code",
   "execution_count": 27,
   "metadata": {
    "id": "bysY4sxPkSs7"
   },
   "outputs": [],
   "source": [
    "# Convert user_id to integer values\n",
    "df1['user_id'] = df1['user_id'].rank(method='dense').astype(int)"
   ]
  },
  {
   "cell_type": "markdown",
   "metadata": {
    "id": "c0kD8BndvcAc"
   },
   "source": [
    "## Feature engineering"
   ]
  },
  {
   "cell_type": "code",
   "execution_count": 28,
   "metadata": {
    "id": "CnP0GHgjOOT-"
   },
   "outputs": [],
   "source": [
    "#Merging  the data df1 and df2\n",
    "df=pd.merge(df1,df2, on='recipe_name',how='left')\n"
   ]
  },
  {
   "cell_type": "code",
   "execution_count": 29,
   "metadata": {},
   "outputs": [],
   "source": [
    "# Saving the merged DataFrame as a CSV file\n",
    "df.to_csv('merged_data.csv', index=False)"
   ]
  },
  {
   "cell_type": "code",
   "execution_count": 30,
   "metadata": {
    "id": "2c8EkqQ8eVmZ"
   },
   "outputs": [],
   "source": [
    "# Rename the \"stars\" column to \"ratings\"\n",
    "df.rename(columns={'stars': 'ratings'}, inplace=True)"
   ]
  },
  {
   "cell_type": "code",
   "execution_count": 31,
   "metadata": {},
   "outputs": [],
   "source": [
    "# Define a function to convert a list of strings\n",
    "def convert_list_strings(lst):\n",
    "    return [word.replace(\"'\", \"\").replace(\" \", \"\").replace(\"-\", \"\") for word in lst]\n",
    "\n",
    "# Define a function to apply conversion to a list\n",
    "def convert_a_word(val):\n",
    "    if isinstance(val, list):\n",
    "        return convert_list_strings(val)\n",
    "    else:\n",
    "        return val\n",
    "\n",
    "# Transforming columns\n",
    "columns_to_transform = ['text', 'ingredients', 'cooking_instructions']\n",
    "for column in columns_to_transform:\n",
    "    df[column] = df[column].apply(convert_a_word)"
   ]
  },
  {
   "cell_type": "code",
   "execution_count": 32,
   "metadata": {
    "id": "NZVjZZQDLt50"
   },
   "outputs": [],
   "source": [
    "# Extract column and create a new 'month' column\n",
    "#df['month'] = df['created_at'].dt.month\n",
    "df['month'] = df['created_at'].dt.strftime('%B')\n"
   ]
  },
  {
   "cell_type": "code",
   "execution_count": 33,
   "metadata": {},
   "outputs": [],
   "source": [
    "# Droping the columns \n",
    "df.drop(columns=['created_at','text','user_name','comment_id'], inplace=True)"
   ]
  },
  {
   "cell_type": "code",
   "execution_count": 34,
   "metadata": {
    "id": "WtEdQ1wxt8TL"
   },
   "outputs": [],
   "source": [
    "#Drop rows with missing values in the 'ingredients' and cooking_instructions column\n",
    "df = df.dropna(subset=['ingredients'])\n",
    "df = df.dropna(subset=['cooking_instructions'])"
   ]
  },
  {
   "cell_type": "code",
   "execution_count": 35,
   "metadata": {
    "colab": {
     "base_uri": "https://localhost:8080/",
     "height": 573
    },
    "id": "CQnVKrxOuzEC",
    "outputId": "c281961e-125e-4dd2-ecc4-4aa62ee9d734"
   },
   "outputs": [
    {
     "data": {
      "text/html": [
       "<div>\n",
       "<style scoped>\n",
       "    .dataframe tbody tr th:only-of-type {\n",
       "        vertical-align: middle;\n",
       "    }\n",
       "\n",
       "    .dataframe tbody tr th {\n",
       "        vertical-align: top;\n",
       "    }\n",
       "\n",
       "    .dataframe thead th {\n",
       "        text-align: right;\n",
       "    }\n",
       "</style>\n",
       "<table border=\"1\" class=\"dataframe\">\n",
       "  <thead>\n",
       "    <tr style=\"text-align: right;\">\n",
       "      <th></th>\n",
       "      <th>recipe_number</th>\n",
       "      <th>recipe_code</th>\n",
       "      <th>recipe_name</th>\n",
       "      <th>user_id</th>\n",
       "      <th>user_reputation</th>\n",
       "      <th>reply_count</th>\n",
       "      <th>thumbs_up</th>\n",
       "      <th>thumbs_down</th>\n",
       "      <th>ratings</th>\n",
       "      <th>best_score</th>\n",
       "      <th>ingredients</th>\n",
       "      <th>cooking_instructions</th>\n",
       "      <th>month</th>\n",
       "    </tr>\n",
       "  </thead>\n",
       "  <tbody>\n",
       "    <tr>\n",
       "      <th>0</th>\n",
       "      <td>1</td>\n",
       "      <td>14299</td>\n",
       "      <td>Creamy White Chili</td>\n",
       "      <td>13114</td>\n",
       "      <td>1</td>\n",
       "      <td>0</td>\n",
       "      <td>0</td>\n",
       "      <td>0</td>\n",
       "      <td>5</td>\n",
       "      <td>527</td>\n",
       "      <td>1 lb chicken breast, diced\\r\\n1 onion, chopped...</td>\n",
       "      <td>In a large pot, cook diced chicken breast unti...</td>\n",
       "      <td>October</td>\n",
       "    </tr>\n",
       "    <tr>\n",
       "      <th>1</th>\n",
       "      <td>1</td>\n",
       "      <td>14299</td>\n",
       "      <td>Creamy White Chili</td>\n",
       "      <td>13276</td>\n",
       "      <td>50</td>\n",
       "      <td>0</td>\n",
       "      <td>7</td>\n",
       "      <td>0</td>\n",
       "      <td>5</td>\n",
       "      <td>724</td>\n",
       "      <td>1 lb chicken breast, diced\\r\\n1 onion, chopped...</td>\n",
       "      <td>In a large pot, cook diced chicken breast unti...</td>\n",
       "      <td>October</td>\n",
       "    </tr>\n",
       "    <tr>\n",
       "      <th>2</th>\n",
       "      <td>1</td>\n",
       "      <td>14299</td>\n",
       "      <td>Creamy White Chili</td>\n",
       "      <td>13695</td>\n",
       "      <td>10</td>\n",
       "      <td>0</td>\n",
       "      <td>3</td>\n",
       "      <td>0</td>\n",
       "      <td>5</td>\n",
       "      <td>710</td>\n",
       "      <td>1 lb chicken breast, diced\\r\\n1 onion, chopped...</td>\n",
       "      <td>In a large pot, cook diced chicken breast unti...</td>\n",
       "      <td>September</td>\n",
       "    </tr>\n",
       "    <tr>\n",
       "      <th>3</th>\n",
       "      <td>1</td>\n",
       "      <td>14299</td>\n",
       "      <td>Creamy White Chili</td>\n",
       "      <td>13533</td>\n",
       "      <td>1</td>\n",
       "      <td>2</td>\n",
       "      <td>2</td>\n",
       "      <td>0</td>\n",
       "      <td>0</td>\n",
       "      <td>581</td>\n",
       "      <td>1 lb chicken breast, diced\\r\\n1 onion, chopped...</td>\n",
       "      <td>In a large pot, cook diced chicken breast unti...</td>\n",
       "      <td>August</td>\n",
       "    </tr>\n",
       "    <tr>\n",
       "      <th>4</th>\n",
       "      <td>1</td>\n",
       "      <td>14299</td>\n",
       "      <td>Creamy White Chili</td>\n",
       "      <td>13433</td>\n",
       "      <td>10</td>\n",
       "      <td>1</td>\n",
       "      <td>7</td>\n",
       "      <td>0</td>\n",
       "      <td>0</td>\n",
       "      <td>820</td>\n",
       "      <td>1 lb chicken breast, diced\\r\\n1 onion, chopped...</td>\n",
       "      <td>In a large pot, cook diced chicken breast unti...</td>\n",
       "      <td>October</td>\n",
       "    </tr>\n",
       "  </tbody>\n",
       "</table>\n",
       "</div>"
      ],
      "text/plain": [
       "   recipe_number  recipe_code         recipe_name  user_id  user_reputation  \\\n",
       "0              1        14299  Creamy White Chili    13114                1   \n",
       "1              1        14299  Creamy White Chili    13276               50   \n",
       "2              1        14299  Creamy White Chili    13695               10   \n",
       "3              1        14299  Creamy White Chili    13533                1   \n",
       "4              1        14299  Creamy White Chili    13433               10   \n",
       "\n",
       "   reply_count  thumbs_up  thumbs_down  ratings  best_score  \\\n",
       "0            0          0            0        5         527   \n",
       "1            0          7            0        5         724   \n",
       "2            0          3            0        5         710   \n",
       "3            2          2            0        0         581   \n",
       "4            1          7            0        0         820   \n",
       "\n",
       "                                         ingredients  \\\n",
       "0  1 lb chicken breast, diced\\r\\n1 onion, chopped...   \n",
       "1  1 lb chicken breast, diced\\r\\n1 onion, chopped...   \n",
       "2  1 lb chicken breast, diced\\r\\n1 onion, chopped...   \n",
       "3  1 lb chicken breast, diced\\r\\n1 onion, chopped...   \n",
       "4  1 lb chicken breast, diced\\r\\n1 onion, chopped...   \n",
       "\n",
       "                                cooking_instructions      month  \n",
       "0  In a large pot, cook diced chicken breast unti...    October  \n",
       "1  In a large pot, cook diced chicken breast unti...    October  \n",
       "2  In a large pot, cook diced chicken breast unti...  September  \n",
       "3  In a large pot, cook diced chicken breast unti...     August  \n",
       "4  In a large pot, cook diced chicken breast unti...    October  "
      ]
     },
     "execution_count": 35,
     "metadata": {},
     "output_type": "execute_result"
    }
   ],
   "source": [
    "df.head()"
   ]
  },
  {
   "cell_type": "markdown",
   "metadata": {
    "id": "x3ltn6TtRApu"
   },
   "source": [
    "### EXPLORATORY DATA ANALYSIS"
   ]
  },
  {
   "cell_type": "markdown",
   "metadata": {
    "id": "Xayu9imH0ZNI"
   },
   "source": [
    "#### Visualization of rating distribution"
   ]
  },
  {
   "cell_type": "code",
   "execution_count": 36,
   "metadata": {
    "colab": {
     "base_uri": "https://localhost:8080/",
     "height": 564
    },
    "id": "FtFrZ_2VeSwr",
    "outputId": "9359d752-f935-485c-f883-cc9b95cadfbb"
   },
   "outputs": [
    {
     "data": {
      "image/png": "[encoded data removed]",
      "text/plain": [
       "<Figure size 800x600 with 1 Axes>"
      ]
     },
     "metadata": {},
     "output_type": "display_data"
    }
   ],
   "source": [
    "# Plotting with seaborn and matplotlib\n",
    "plt.figure(figsize=(8, 6))\n",
    "plt.hist(df['ratings'], bins=10, color='skyblue', edgecolor='black')\n",
    "plt.title('Distribution of ratings')\n",
    "plt.xlabel('ratings')\n",
    "plt.ylabel('Frequency')\n",
    "plt.show()"
   ]
  },
  {
   "cell_type": "markdown",
   "metadata": {
    "id": "5qkLfasI6wp7"
   },
   "source": [
    "`Observation`\n",
    "\n",
    "There seems to be a concentration of bars on the right side of the graph, suggesting a higher frequency of recipes receiving positive ratings.However, there's also a range of ratings, indicating some variation in user preferences."
   ]
  },
  {
   "cell_type": "markdown",
   "metadata": {
    "id": "TqCOylAo1kX1"
   },
   "source": [
    "#### Visualizing rating trends over months"
   ]
  },
  {
   "cell_type": "code",
   "execution_count": 37,
   "metadata": {
    "colab": {
     "base_uri": "https://localhost:8080/",
     "height": 607
    },
    "id": "CIA25wzfvHvn",
    "outputId": "89ee1e20-1613-49ac-ac56-0ebc77b929e1"
   },
   "outputs": [
    {
     "data": {
      "image/png": "[encoded data removed]",
      "text/plain": [
       "<Figure size 1000x600 with 1 Axes>"
      ]
     },
     "metadata": {},
     "output_type": "display_data"
    }
   ],
   "source": [
    "# Grouping by month to calculate average ratings\n",
    "ratings_trend = df.groupby('month')['ratings'].mean().reset_index()\n",
    "\n",
    "# Plotting\n",
    "plt.figure(figsize=(10, 6))\n",
    "plt.plot(ratings_trend['month'], ratings_trend['ratings'], marker='o')\n",
    "plt.title('Average Ratings Trend Over Months')\n",
    "plt.xlabel('month')\n",
    "plt.ylabel('Average Ratings')\n",
    "plt.xticks(rotation=45)\n",
    "plt.grid(False)\n",
    "plt.tight_layout()\n",
    "plt.show()\n"
   ]
  },
  {
   "cell_type": "markdown",
   "metadata": {
    "id": "L-mD8MdO5ZK1"
   },
   "source": [
    "`Observation`\n",
    "\n",
    "- The line shows some fluctuations in the average rating over time.There's a possibility of a slight downward trend in the average rating as the months progress\n",
    "- March received the highest customer feedback, with November and June following closely, while May, July, and August had the least response."
   ]
  },
  {
   "cell_type": "markdown",
   "metadata": {
    "id": "oH4STbjS0Nv6"
   },
   "source": [
    "### Top 5 recipes"
   ]
  },
  {
   "cell_type": "code",
   "execution_count": 38,
   "metadata": {
    "colab": {
     "base_uri": "https://localhost:8080/",
     "height": 607
    },
    "id": "_bku7zgaRbtR",
    "outputId": "7091689a-ed85-4047-cfbb-38d145c55a46"
   },
   "outputs": [
    {
     "data": {
      "image/png": "[encoded data removed]",
      "text/plain": [
       "<Figure size 1000x600 with 1 Axes>"
      ]
     },
     "metadata": {},
     "output_type": "display_data"
    }
   ],
   "source": [
    "# Group by recipe and count the number of stars, then sort in descending order\n",
    "top_10_recipes = df.groupby('recipe_name')['ratings'].count().sort_values(ascending=False).head()\n",
    "\n",
    "# list of custom colors for the bars\n",
    "custom_colors = ['#06837f', '#02cecb', '#b4ffff', '#f8e16c', '#fed811']\n",
    "\n",
    "# bar plot with custom colors\n",
    "plt.figure(figsize=(10, 6))\n",
    "ax = top_10_recipes.plot(kind='bar', color=custom_colors)\n",
    "\n",
    "ax.grid(False)\n",
    "\n",
    "plt.title('Top 5 Recipes')\n",
    "plt.xlabel('Recipes')\n",
    "plt.ylabel('Number of ratings')\n",
    "plt.xticks(rotation=45, ha='right')\n",
    "plt.tight_layout()\n",
    "\n",
    "# Add the number of ratings on top of each bar\n",
    "for i, v in enumerate(top_10_recipes):\n",
    " ax.text(i, v, str(v), ha='center', va='bottom', fontsize=16, color='black')\n",
    "plt.show()"
   ]
  },
  {
   "cell_type": "markdown",
   "metadata": {
    "id": "WHSjWXCz2fI6"
   },
   "source": [
    "### Visualization Top 10 recipe"
   ]
  },
  {
   "cell_type": "code",
   "execution_count": 39,
   "metadata": {
    "colab": {
     "base_uri": "https://localhost:8080/",
     "height": 607
    },
    "id": "-18OpmBZ2d0K",
    "outputId": "05a7c030-ab51-48fe-c551-31824ab99db9"
   },
   "outputs": [
    {
     "data": {
      "image/png": "[encoded data removed]",
      "text/plain": [
       "<Figure size 1000x600 with 1 Axes>"
      ]
     },
     "metadata": {},
     "output_type": "display_data"
    }
   ],
   "source": [
    "# Group by recipe_name and count the number of ratings\n",
    "top_10_recipes = df['recipe_name'].value_counts().head(10)\n",
    "\n",
    "# Plotting\n",
    "plt.figure(figsize=(10, 6))\n",
    "ax=top_10_recipes.plot(kind='bar', color='skyblue')\n",
    "\n",
    "# Remove grid lines\n",
    "ax.grid(False)\n",
    "\n",
    "plt.title('Top 10 Recipes ')\n",
    "plt.xlabel('Recipe Name')\n",
    "plt.ylabel('Count of Ratings')\n",
    "plt.xticks(rotation=45, ha='right')\n",
    "plt.tight_layout()\n",
    "\n",
    "# Adding the number of ratings on top of each bar\n",
    "for i, v in enumerate(top_10_recipes):\n",
    " ax.text(i, v, str(v), ha='center', va='bottom', fontsize=16, color='black')\n",
    "plt.show()"
   ]
  },
  {
   "cell_type": "markdown",
   "metadata": {
    "id": "vyzF5WrRWht3"
   },
   "source": [
    " `Observation`\n",
    "\n",
    " The graph suggests that Cheeseburger Soup,Creamy White Chili,Best Ever Banana Bread,Enchilada Casserole-Ole!,Basic Homemade Bread,Favorite Chicken Potpie,Flavorful Chicken Fajitas,Amish Breakfast Casserole,Zucchini Pizza Casserole,Cauliflower Soupthese  are the most popular recipes among users based on the number of ratings they have received"
   ]
  },
  {
   "cell_type": "markdown",
   "metadata": {
    "id": "Wu7mvTp9vVkW"
   },
   "source": [
    "#### Multivariate Analysis\n",
    "\n",
    "Our aim here is to look for the relationship between different features\n",
    "\n",
    "First we look at the correlation of the numeric columns using Pearson's coefficient"
   ]
  },
  {
   "cell_type": "code",
   "execution_count": 40,
   "metadata": {
    "colab": {
     "base_uri": "https://localhost:8080/",
     "height": 237
    },
    "id": "cIiVoPCvsEyb",
    "outputId": "32682bd6-f8df-4cae-f4c1-e5eafc8c67f6"
   },
   "outputs": [
    {
     "data": {
      "text/html": [
       "<div>\n",
       "<style scoped>\n",
       "    .dataframe tbody tr th:only-of-type {\n",
       "        vertical-align: middle;\n",
       "    }\n",
       "\n",
       "    .dataframe tbody tr th {\n",
       "        vertical-align: top;\n",
       "    }\n",
       "\n",
       "    .dataframe thead th {\n",
       "        text-align: right;\n",
       "    }\n",
       "</style>\n",
       "<table border=\"1\" class=\"dataframe\">\n",
       "  <thead>\n",
       "    <tr style=\"text-align: right;\">\n",
       "      <th></th>\n",
       "      <th>user_reputation</th>\n",
       "      <th>reply_count</th>\n",
       "      <th>thumbs_up</th>\n",
       "      <th>thumbs_down</th>\n",
       "      <th>ratings</th>\n",
       "      <th>best_score</th>\n",
       "    </tr>\n",
       "  </thead>\n",
       "  <tbody>\n",
       "    <tr>\n",
       "      <th>user_reputation</th>\n",
       "      <td>1.000000</td>\n",
       "      <td>0.010741</td>\n",
       "      <td>0.057284</td>\n",
       "      <td>0.023680</td>\n",
       "      <td>0.015683</td>\n",
       "      <td>0.136188</td>\n",
       "    </tr>\n",
       "    <tr>\n",
       "      <th>reply_count</th>\n",
       "      <td>0.010741</td>\n",
       "      <td>1.000000</td>\n",
       "      <td>0.210079</td>\n",
       "      <td>0.331602</td>\n",
       "      <td>-0.120224</td>\n",
       "      <td>0.203129</td>\n",
       "    </tr>\n",
       "    <tr>\n",
       "      <th>thumbs_up</th>\n",
       "      <td>0.057284</td>\n",
       "      <td>0.210079</td>\n",
       "      <td>1.000000</td>\n",
       "      <td>0.372920</td>\n",
       "      <td>-0.049711</td>\n",
       "      <td>0.683421</td>\n",
       "    </tr>\n",
       "    <tr>\n",
       "      <th>thumbs_down</th>\n",
       "      <td>0.023680</td>\n",
       "      <td>0.331602</td>\n",
       "      <td>0.372920</td>\n",
       "      <td>1.000000</td>\n",
       "      <td>-0.141187</td>\n",
       "      <td>0.212812</td>\n",
       "    </tr>\n",
       "    <tr>\n",
       "      <th>ratings</th>\n",
       "      <td>0.015683</td>\n",
       "      <td>-0.120224</td>\n",
       "      <td>-0.049711</td>\n",
       "      <td>-0.141187</td>\n",
       "      <td>1.000000</td>\n",
       "      <td>-0.031766</td>\n",
       "    </tr>\n",
       "    <tr>\n",
       "      <th>best_score</th>\n",
       "      <td>0.136188</td>\n",
       "      <td>0.203129</td>\n",
       "      <td>0.683421</td>\n",
       "      <td>0.212812</td>\n",
       "      <td>-0.031766</td>\n",
       "      <td>1.000000</td>\n",
       "    </tr>\n",
       "  </tbody>\n",
       "</table>\n",
       "</div>"
      ],
      "text/plain": [
       "                 user_reputation  reply_count  thumbs_up  thumbs_down  \\\n",
       "user_reputation         1.000000     0.010741   0.057284     0.023680   \n",
       "reply_count             0.010741     1.000000   0.210079     0.331602   \n",
       "thumbs_up               0.057284     0.210079   1.000000     0.372920   \n",
       "thumbs_down             0.023680     0.331602   0.372920     1.000000   \n",
       "ratings                 0.015683    -0.120224  -0.049711    -0.141187   \n",
       "best_score              0.136188     0.203129   0.683421     0.212812   \n",
       "\n",
       "                  ratings  best_score  \n",
       "user_reputation  0.015683    0.136188  \n",
       "reply_count     -0.120224    0.203129  \n",
       "thumbs_up       -0.049711    0.683421  \n",
       "thumbs_down     -0.141187    0.212812  \n",
       "ratings          1.000000   -0.031766  \n",
       "best_score      -0.031766    1.000000  "
      ]
     },
     "execution_count": 40,
     "metadata": {},
     "output_type": "execute_result"
    }
   ],
   "source": [
    "# Pearson coefficient of numeric columns\n",
    "numerical_columns_df = df[[\n",
    "    'user_reputation',\n",
    "    'reply_count',\n",
    "    'thumbs_up',\n",
    "    'thumbs_down',\n",
    "    'ratings',\n",
    "    'best_score'\n",
    "\n",
    "]]\n",
    "numerical_columns_df.corr()"
   ]
  },
  {
   "cell_type": "markdown",
   "metadata": {
    "id": "cEeEtIJlJW8I"
   },
   "source": [
    "`Observations`\n",
    "\n",
    " The correlation matrix provides valuable insights into the relationships between different features.\n",
    " For instance, thumbs up and best score have a strong positive correlation, suggesting that users who give more thumbs up tend to have higher best scores. On the other hand, reply count and ratings have a weak negative relationship, implying that users who reply more may give slightly lower ratings."
   ]
  },
  {
   "cell_type": "markdown",
   "metadata": {
    "id": "E0KBP4z_loBw"
   },
   "source": [
    "### MODELLING"
   ]
  },
  {
   "cell_type": "markdown",
   "metadata": {
    "id": "erQcDGRRHuoT"
   },
   "source": [
    "## Item-Based Collaborative Filtering\n",
    "\n",
    "its recommendation technique that focuses on the similarity between items rather than between users."
   ]
  },
  {
   "cell_type": "code",
   "execution_count": 41,
   "metadata": {
    "id": "KlQ3L8FOwmpW"
   },
   "outputs": [],
   "source": [
    "#preparing the data by converting the provided DataFrame to a surprise dataset\n",
    "ratings_df = pd.DataFrame(df)\n",
    "\n",
    "# Define the reader object\n",
    "reader = Reader(rating_scale=(0, 100))\n",
    "\n",
    "# Load data from DataFrame\n",
    "data = Dataset.load_from_df(ratings_df[['user_id', 'recipe_code', 'ratings']], reader)\n"
   ]
  },
  {
   "cell_type": "code",
   "execution_count": 42,
   "metadata": {
    "colab": {
     "base_uri": "https://localhost:8080/"
    },
    "id": "34sie8HGOXUJ",
    "outputId": "a4507fe6-61db-4fe9-d6e6-3d6b86d508d8"
   },
   "outputs": [
    {
     "name": "stdout",
     "output_type": "stream",
     "text": [
      "Estimating biases using als...\n",
      "Computing the pearson_baseline similarity matrix...\n",
      "Done computing similarity matrix.\n",
      "RMSE: 1.5095\n",
      "Item-Based CF RMSE: 1.5094580354977554\n",
      "MAE:  0.9909\n",
      "Item-Based CF MAE: 0.9908501246430499\n"
     ]
    }
   ],
   "source": [
    "\n",
    "# Split the dataset into train and test sets\n",
    "trainset, testset = train_test_split(data, test_size=0.25)\n",
    "\n",
    "# Define similarity options for item-based CF\n",
    "sim_options = {\n",
    "    'name': 'pearson_baseline',\n",
    "    'user_based': False  # Item-based\n",
    "}\n",
    "\n",
    "# initializing and train model \n",
    "algo_item_based = KNNWithMeans(k=5, sim_options=sim_options)\n",
    "algo_item_based.fit(trainset)\n",
    "\n",
    "# Predict ratings for the test set\n",
    "predictions_item_based = algo_item_based.test(testset)\n",
    "\n",
    "# evaluating RMSE (Root Mean Square Error)\n",
    "print(\"Item-Based CF RMSE:\", accuracy.rmse(predictions_item_based))\n",
    "print(\"Item-Based CF MAE:\", accuracy.mae(predictions_item_based))"
   ]
  },
  {
   "cell_type": "markdown",
   "metadata": {
    "id": "W1t0bzWOt1rr"
   },
   "source": [
    "`Observation`\n",
    "\n",
    "The reported RMSE of 1.5476 and MAE of 1.0135 suggest that the item-based collaborative filtering model using Pearson-baseline similarity performs reasonably well."
   ]
  },
  {
   "cell_type": "markdown",
   "metadata": {
    "id": "j6h3uqfuHyhi"
   },
   "source": [
    "### Content-Based Filtering with Cosine Similarity\n",
    "Content-based filtering with cosine similarity is a technique used in recommendation systems to suggest items"
   ]
  },
  {
   "cell_type": "code",
   "execution_count": 43,
   "metadata": {
    "colab": {
     "base_uri": "https://localhost:8080/"
    },
    "id": "PhNH93J2nRws",
    "outputId": "559ab860-dbcb-4a0e-91d7-044171d3d0e4"
   },
   "outputs": [
    {
     "data": {
      "text/plain": [
       "[('Creamy White Chili',\n",
       "  '1 lb chicken breast, diced\\r\\n1 onion, chopped\\r\\n2 cloves garlic, minced\\r\\n2 cans (15 oz each) white beans, drained and rinsed\\r\\n1 can (4 oz) chopped green chilies\\r\\n2 cups chicken broth\\r\\n1 cup heavy cream\\r\\n1 tsp cumin\\r\\n1 tsp oregano\\r\\nSalt and pepper to taste\\r\\nOptional toppings: shredded cheese, sour cream, chopped cilantro, sliced jalapenos'),\n",
       " ('Creamy White Chili',\n",
       "  '1 lb chicken breast, diced\\r\\n1 onion, chopped\\r\\n2 cloves garlic, minced\\r\\n2 cans (15 oz each) white beans, drained and rinsed\\r\\n1 can (4 oz) chopped green chilies\\r\\n2 cups chicken broth\\r\\n1 cup heavy cream\\r\\n1 tsp cumin\\r\\n1 tsp oregano\\r\\nSalt and pepper to taste\\r\\nOptional toppings: shredded cheese, sour cream, chopped cilantro, sliced jalapenos'),\n",
       " ('Creamy White Chili',\n",
       "  '1 lb chicken breast, diced\\r\\n1 onion, chopped\\r\\n2 cloves garlic, minced\\r\\n2 cans (15 oz each) white beans, drained and rinsed\\r\\n1 can (4 oz) chopped green chilies\\r\\n2 cups chicken broth\\r\\n1 cup heavy cream\\r\\n1 tsp cumin\\r\\n1 tsp oregano\\r\\nSalt and pepper to taste\\r\\nOptional toppings: shredded cheese, sour cream, chopped cilantro, sliced jalapenos'),\n",
       " ('Creamy White Chili',\n",
       "  '1 lb chicken breast, diced\\r\\n1 onion, chopped\\r\\n2 cloves garlic, minced\\r\\n2 cans (15 oz each) white beans, drained and rinsed\\r\\n1 can (4 oz) chopped green chilies\\r\\n2 cups chicken broth\\r\\n1 cup heavy cream\\r\\n1 tsp cumin\\r\\n1 tsp oregano\\r\\nSalt and pepper to taste\\r\\nOptional toppings: shredded cheese, sour cream, chopped cilantro, sliced jalapenos'),\n",
       " ('Creamy White Chili',\n",
       "  '1 lb chicken breast, diced\\r\\n1 onion, chopped\\r\\n2 cloves garlic, minced\\r\\n2 cans (15 oz each) white beans, drained and rinsed\\r\\n1 can (4 oz) chopped green chilies\\r\\n2 cups chicken broth\\r\\n1 cup heavy cream\\r\\n1 tsp cumin\\r\\n1 tsp oregano\\r\\nSalt and pepper to taste\\r\\nOptional toppings: shredded cheese, sour cream, chopped cilantro, sliced jalapenos'),\n",
       " ('Creamy White Chili',\n",
       "  '1 lb chicken breast, diced\\r\\n1 onion, chopped\\r\\n2 cloves garlic, minced\\r\\n2 cans (15 oz each) white beans, drained and rinsed\\r\\n1 can (4 oz) chopped green chilies\\r\\n2 cups chicken broth\\r\\n1 cup heavy cream\\r\\n1 tsp cumin\\r\\n1 tsp oregano\\r\\nSalt and pepper to taste\\r\\nOptional toppings: shredded cheese, sour cream, chopped cilantro, sliced jalapenos'),\n",
       " ('Creamy White Chili',\n",
       "  '1 lb chicken breast, diced\\r\\n1 onion, chopped\\r\\n2 cloves garlic, minced\\r\\n2 cans (15 oz each) white beans, drained and rinsed\\r\\n1 can (4 oz) chopped green chilies\\r\\n2 cups chicken broth\\r\\n1 cup heavy cream\\r\\n1 tsp cumin\\r\\n1 tsp oregano\\r\\nSalt and pepper to taste\\r\\nOptional toppings: shredded cheese, sour cream, chopped cilantro, sliced jalapenos'),\n",
       " ('Creamy White Chili',\n",
       "  '1 lb chicken breast, diced\\r\\n1 onion, chopped\\r\\n2 cloves garlic, minced\\r\\n2 cans (15 oz each) white beans, drained and rinsed\\r\\n1 can (4 oz) chopped green chilies\\r\\n2 cups chicken broth\\r\\n1 cup heavy cream\\r\\n1 tsp cumin\\r\\n1 tsp oregano\\r\\nSalt and pepper to taste\\r\\nOptional toppings: shredded cheese, sour cream, chopped cilantro, sliced jalapenos'),\n",
       " ('Creamy White Chili',\n",
       "  '1 lb chicken breast, diced\\r\\n1 onion, chopped\\r\\n2 cloves garlic, minced\\r\\n2 cans (15 oz each) white beans, drained and rinsed\\r\\n1 can (4 oz) chopped green chilies\\r\\n2 cups chicken broth\\r\\n1 cup heavy cream\\r\\n1 tsp cumin\\r\\n1 tsp oregano\\r\\nSalt and pepper to taste\\r\\nOptional toppings: shredded cheese, sour cream, chopped cilantro, sliced jalapenos'),\n",
       " ('Creamy White Chili',\n",
       "  '1 lb chicken breast, diced\\r\\n1 onion, chopped\\r\\n2 cloves garlic, minced\\r\\n2 cans (15 oz each) white beans, drained and rinsed\\r\\n1 can (4 oz) chopped green chilies\\r\\n2 cups chicken broth\\r\\n1 cup heavy cream\\r\\n1 tsp cumin\\r\\n1 tsp oregano\\r\\nSalt and pepper to taste\\r\\nOptional toppings: shredded cheese, sour cream, chopped cilantro, sliced jalapenos')]"
      ]
     },
     "execution_count": 43,
     "metadata": {},
     "output_type": "execute_result"
    }
   ],
   "source": [
    "# Creating TF-IDF vectorizer\n",
    "tfidf_vectorizer = TfidfVectorizer(stop_words='english')\n",
    "\n",
    "# Fit and transform the ingredients data\n",
    "tfidf_matrix = tfidf_vectorizer.fit_transform(df['ingredients'])\n",
    "\n",
    "# Compute cosine similarity matrix\n",
    "cosine_sim = linear_kernel(tfidf_matrix, tfidf_matrix)\n",
    "\n",
    "#  mapping of recipe names to their corresponding indices\n",
    "indices = pd.Series(df.index, index=df['recipe_name']).drop_duplicates()\n",
    "\n",
    "# Function to get recommendations based on cosine similarity\n",
    "def get_recommendations(recipe_name, cosine_sim=cosine_sim):\n",
    "    idx = indices[recipe_name]\n",
    "    sim_scores = list(enumerate(cosine_sim[idx]))\n",
    "    sim_scores = sorted(sim_scores, key=lambda x: x[1][0], reverse=True)\n",
    "\n",
    "    sim_scores = sim_scores[1:11]  # Get top 10 similar recipes\n",
    "    recipe_indices = [i[0] for i in sim_scores]\n",
    "    similar_recipes = df.iloc[recipe_indices]\n",
    "    similar_recipe_names = similar_recipes['recipe_name'].tolist()\n",
    "    similar_recipe_ingredients = similar_recipes['ingredients'].tolist()\n",
    "    return list(zip(similar_recipe_names, similar_recipe_ingredients))\n",
    "\n",
    "# Example usage\n",
    "get_recommendations('Creamy White Chili')"
   ]
  },
  {
   "cell_type": "markdown",
   "metadata": {
    "id": "fFqLVzHGLb_q"
   },
   "source": [
    "## Single Value Decomposition\n",
    "\n",
    "Is a dimensionality reduction technique commonly used in recommendation systems.\n",
    "\n",
    "SVD is a powerful technique for recommendation systems as it provides a compact representation of user-item interactions while capturing meaningful patterns in the data"
   ]
  },
  {
   "cell_type": "code",
   "execution_count": 44,
   "metadata": {
    "colab": {
     "base_uri": "https://localhost:8080/"
    },
    "id": "UxERyP-_Bix1",
    "outputId": "72f2d320-7a57-4d58-9eaa-0eda00f99561"
   },
   "outputs": [
    {
     "name": "stdout",
     "output_type": "stream",
     "text": [
      "RMSE: 1.4731\n",
      "SVD RMSE: 1.4730545445557093\n",
      "MAE:  1.0046\n",
      "SVD MAE: 1.0045907549234383\n"
     ]
    }
   ],
   "source": [
    "\n",
    "# Split the dataset into train and test sets\n",
    "trainset, testset = train_test_split(data, test_size=0.25,random_state=42)\n",
    "\n",
    "# initializing the SVD model\n",
    "svd_model = SVD()\n",
    "\n",
    "# Train the model on the training set\n",
    "svd_model.fit(trainset)\n",
    "\n",
    "# Predict ratings for the test set\n",
    "predictions = svd_model.test(testset)\n",
    "\n",
    "# Evaluate the model RMSE (Root Mean Square Error)\n",
    "print(\"SVD RMSE:\", accuracy.rmse(predictions))\n",
    "print(\"SVD MAE:\", accuracy.mae(predictions))"
   ]
  },
  {
   "cell_type": "markdown",
   "metadata": {
    "id": "3dRDfy_Tz1OO"
   },
   "source": [
    "`Observation`\n",
    "\n",
    "The reported RMSE of 1.4522 and MAE of 0.9920 suggest that the SVD model is performing reasonably well, with an average deviation of about 1.4522 units from the actual values and an average absolute difference of 0.9920 units. The lower MAE compared to RMSE indicates that the model has some larger errors, but overall, it is making accurate predictions."
   ]
  },
  {
   "cell_type": "markdown",
   "metadata": {
    "id": "KWv8PPc0oKz3"
   },
   "source": [
    "### Recommendations based on SVD\n",
    "\n",
    "To generate recommendations using SVD, a userID to whom which recommendations are to be made is taken an input. SVD model\n",
    "is used to predicted rating for each recipe which represent how much the user might like each recipe. The ratings are sorted in a\n",
    "descending order and recommendations is given to the user.\n"
   ]
  },
  {
   "cell_type": "code",
   "execution_count": 45,
   "metadata": {
    "colab": {
     "base_uri": "https://localhost:8080/"
    },
    "id": "B-aBpjteuURQ",
    "outputId": "72b4b8c0-687d-4570-c8ac-1d592abf508e"
   },
   "outputs": [
    {
     "name": "stdout",
     "output_type": "stream",
     "text": [
      "Recipe Name: Stuffed Pepper Soup, Recipe code: 2872, Predicted Rating: 4.915068294744915\n",
      "Recipe Name: Favorite Chicken Potpie, Recipe code: 21444, Predicted Rating: 4.857295393137405\n",
      "Recipe Name: Best Ever Banana Bread, Recipe code: 3309, Predicted Rating: 4.8361125361892725\n",
      "Recipe Name: Corn Pudding, Recipe code: 31278, Predicted Rating: 4.77588451510999\n",
      "Recipe Name: Amish Breakfast Casserole, Recipe code: 17826, Predicted Rating: 4.737616749787364\n",
      "Recipe Name: Chicken Wild Rice Soup, Recipe code: 16579, Predicted Rating: 4.735223431074349\n",
      "Recipe Name: Pumpkin Bread, Recipe code: 1196, Predicted Rating: 4.708979230650746\n",
      "Recipe Name: Favorite Dutch Apple Pie, Recipe code: 9010, Predicted Rating: 4.705009689666498\n",
      "Recipe Name: Forgotten Jambalaya, Recipe code: 39549, Predicted Rating: 4.698004018192708\n",
      "Recipe Name: Macaroni Coleslaw, Recipe code: 43675, Predicted Rating: 4.662715672751351\n"
     ]
    }
   ],
   "source": [
    "# Recommend recipe for a specific user (user_id = 1 in this example)\n",
    "user_id = 13114\n",
    "user_recipe = df[df['user_id'] == user_id]['recipe_code'].unique()\n",
    "\n",
    "# Generate recommendations for the user\n",
    "recommended_recipe = []\n",
    "for recipe_code in df['recipe_code'].unique():\n",
    " if recipe_code not in user_recipe:\n",
    "  predicted_ratings = svd_model.predict(user_id, recipe_code).est\n",
    "  recommended_recipe.append((recipe_code, predicted_ratings))\n",
    "\n",
    "# Sort recommended recipe by predicted rating\n",
    "recommended_recipe.sort(key=lambda x: x[1], reverse=True)\n",
    "\n",
    "# Print top 10 recommended recipes\n",
    "for recipe_code, predicted_rating in recommended_recipe[:10]:\n",
    " recipe_name = df[df['recipe_code'] == recipe_code]['recipe_name'].iloc[0]\n",
    " print(f\"Recipe Name: {recipe_name}, Recipe code: {recipe_code}, Predicted Rating: {predicted_rating}\")"
   ]
  },
  {
   "cell_type": "markdown",
   "metadata": {
    "id": "OXMO2AOWmF5h"
   },
   "source": [
    "`Observation`\n",
    "\n",
    "The output represents top recommended recipes along with their predicted ratings. These recommendations  help users discover popular and potentially enjoyable recipes, enhancing user engagement and satisfaction with the recipe platform or service."
   ]
  },
  {
   "cell_type": "markdown",
   "metadata": {
    "id": "AtEM7O9yrt0p"
   },
   "source": [
    "### Hyperparameter tunning"
   ]
  },
  {
   "cell_type": "code",
   "execution_count": 46,
   "metadata": {
    "colab": {
     "base_uri": "https://localhost:8080/"
    },
    "id": "YGRFmIsUzjUC",
    "outputId": "466d3bca-ebcf-4fa0-d74e-d3d29ea6aa83"
   },
   "outputs": [
    {
     "name": "stdout",
     "output_type": "stream",
     "text": [
      "Best parameters: {'n_factors': 150, 'n_epochs': 40, 'lr_all': 0.005}\n",
      "RMSE values: [1.5106485  1.50125643 1.47040004 1.50608633 1.48947295 1.46198361\n",
      " 1.50120386 1.4775389  1.46265496 1.50776541 1.49682339 1.46792188\n",
      " 1.50237577 1.48326209 1.46251967 1.49616155 1.47316347 1.46227467\n",
      " 1.50615747 1.49294958 1.46588624 1.50001544 1.47874369 1.46199336\n",
      " 1.49236435 1.47149068 1.45930601]\n",
      "MAE values: [1.04070687 1.03428155 1.00242774 1.03742074 1.02428729 0.98694638\n",
      " 1.03295624 1.01252789 0.97980487 1.03809526 1.02967151 0.99737612\n",
      " 1.03438897 1.01751367 0.98279592 1.02991613 1.00538686 0.97818643\n",
      " 1.03740409 1.02791198 0.99446246 1.03285036 1.01174434 0.98233195\n",
      " 1.02565641 1.00080067 0.97739788]\n"
     ]
    }
   ],
   "source": [
    "# Define parameter grid\n",
    "param_grid = {'n_factors': [50, 100, 150], 'n_epochs': [20, 30, 40], 'lr_all': [0.001, 0.002, 0.005]}\n",
    "\n",
    "# Instantiate SVD\n",
    "model = SVD()\n",
    "\n",
    "# Perform grid search with cross-validation\n",
    "grid_search = GridSearchCV(SVD, param_grid, measures=['rmse', 'mae'], cv=5, n_jobs=-1)\n",
    "grid_search.fit(data)\n",
    "\n",
    "# Get best parameters\n",
    "best_params = grid_search.best_params['rmse']\n",
    "print(\"Best parameters:\", best_params)\n",
    "\n",
    "#getting rmse score\n",
    "cv_results = grid_search.cv_results\n",
    "\n",
    "# Extract RMSEand MAE values\n",
    "rmse_values = cv_results['mean_test_rmse']\n",
    "mae_values = cv_results['mean_test_mae']\n",
    "\n",
    "# Evaluating RMSE and MAE values\n",
    "print(\"RMSE values:\", rmse_values)\n",
    "print(\"MAE values:\", mae_values)"
   ]
  },
  {
   "cell_type": "markdown",
   "metadata": {
    "id": "BWqrIYw5ydWf"
   },
   "source": [
    "`Observation`\n",
    "- The RMSE values range from 1.4619 to 1.5099, with the lowest value being 1.4619\n",
    "- The MAE values range from 0.9810 to 1.0414, with the lowest value being 0.9810.\n",
    "\n",
    "The range of RMSE and MAE values suggests that the SVD model with the specified parameters performs reasonably well on the dataset. The lowest RMSE value of 1.4619 and the lowest MAE value of 0.9810 indicate the best predictive performance of the model.\n",
    "\n",
    "---\n",
    "\n"
   ]
  },
  {
   "cell_type": "code",
   "execution_count": 47,
   "metadata": {
    "colab": {
     "base_uri": "https://localhost:8080/"
    },
    "id": "TtCN1IE0rKFr",
    "outputId": "b10eda72-a2c4-488c-9b08-8ca785590fd0"
   },
   "outputs": [
    {
     "name": "stdout",
     "output_type": "stream",
     "text": [
      "Top 10 recipe recommendations for user 845:\n",
      "1: Recipe Code 82745 (Estimated Rating: 5.13063901575163)\n",
      "2: Recipe Code 9735 (Estimated Rating: 4.931811613615175)\n",
      "3: Recipe Code 17310 (Estimated Rating: 4.911080346867099)\n",
      "4: Recipe Code 2832 (Estimated Rating: 4.89197432131712)\n",
      "5: Recipe Code 2912 (Estimated Rating: 4.863740729528721)\n",
      "6: Recipe Code 141947 (Estimated Rating: 4.820014325517068)\n",
      "7: Recipe Code 12540 (Estimated Rating: 4.802826090455769)\n",
      "8: Recipe Code 7708 (Estimated Rating: 4.749621372973337)\n",
      "9: Recipe Code 12700 (Estimated Rating: 4.71008400639449)\n",
      "10: Recipe Code 18345 (Estimated Rating: 4.7042512812946615)\n"
     ]
    }
   ],
   "source": [
    "# Initialize and train the SVD model\n",
    "model = SVD(**best_params)\n",
    "trainset = data.build_full_trainset()\n",
    "model.fit(trainset)\n",
    "\n",
    "# Get the list of all recipe codes\n",
    "all_recipe_codes = df['recipe_code'].unique()\n",
    "\n",
    "# Generate top-10 recipe recommendations for each user\n",
    "top_n = {}\n",
    "for uid in df['user_id'].unique():\n",
    "    # Exclude recipes already rated by the user\n",
    "    user_recipe_rated = df.loc[df['user_id'] == uid, 'recipe_code']\n",
    "    recipe_to_predict = [rid for rid in all_recipe_codes if rid not in user_recipe_rated]\n",
    "\n",
    "    # Predict ratings for recipes not yet rated by the user\n",
    "    predictions = [model.predict(uid, rid) for rid in recipe_to_predict]\n",
    "\n",
    "    # Sort predictions by estimated rating\n",
    "    sorted_predictions = sorted(predictions, key=lambda x: x.est, reverse=True)\n",
    "\n",
    "    # Get top 10 recipe recommendations\n",
    "    top_n[uid] = [(pred.iid, pred.est) for pred in sorted_predictions[:10]]\n",
    "\n",
    "# Print the top 10 recommendations for a specific user\n",
    "\n",
    "print(f\"Top 10 recipe recommendations for user {uid}:\")\n",
    "for rank, (recipe_code, estimated_rating) in enumerate(top_n[uid], start=1):\n",
    "    print(f\"{rank}: Recipe Code {recipe_code} (Estimated Rating: {estimated_rating})\")"
   ]
  },
  {
   "cell_type": "markdown",
   "metadata": {
    "id": "gdtnz-7UqtF5"
   },
   "source": [
    "- The estimated ratings are numerical values generated by the SVD model, representing how much the model predicts the user would like each recipe.\n",
    "- Higher estimated ratings indicate recipes that the model believes the user is more likely to enjoy or rate highly."
   ]
  },
  {
   "cell_type": "markdown",
   "metadata": {},
   "source": [
    "### Key Insights\n",
    "\n",
    "Item-Based Collaborative Filtering\n",
    "\n",
    "- The reported RMSE of 1.5476 and MAE of 1.0135 suggest that the item-based collaborative filtering model using Pearson-baseline similarity performs reasonably well.\n",
    "\n",
    "Single Value Decomposition\n",
    "- The reported RMSE of 1.4522 and MAE of 0.9920 suggest that the SVD model is performing reasonably well, with an average deviation of about 1.4522 units from the actual values and an average absolute difference of 0.9920 units. The lower MAE compared to RMSE indicates that the model has some larger errors, but overall, it is making accurate predictions.\n",
    "\n",
    "Hyperparameter tunning for SVD\n",
    "- The RMSE values range from 1.4619 to 1.5099, with the lowest value being 1.4619 The MAE values range from 0.9810 to 1.0414, with the lowest value being 0.9810. The range of RMSE and MAE values suggests that the SVD model with the specified parameters performs reasonably well on the dataset. The lowest RMSE value of 1.4619 and the lowest MAE value of 0.9810 indicate the best predictive performance of the model.\n"
   ]
  },
  {
   "cell_type": "markdown",
   "metadata": {},
   "source": [
    "### Conclusion\n",
    "\n",
    "- The item-based model using Pearson-baseline similarity tends to have slightly better performance based on the reported RMSE and MAE values.\n",
    "- The SVD model can be considered effective for making personalized recommendations, with a reasonable level of accuracy.\n",
    "- The recommendation system employs collaborative filtering to generate personalized recipe recommendations for user_id = 13114.\n",
    "- By leveraging a model's predicted ratings, the system suggests recipes that the user is likely to enjoy based on their past interactions and similarities with other users.\n",
    "- The recommendations are presented in descending order of predicted rating, allowing the user to prioritize recipes with higher predicted preferences.\n",
    "- Overall, the system provides a tailored and user-centric approach to recipe discovery, enhancing the user experience and increasing engagement with the platform.\n"
   ]
  },
  {
   "cell_type": "markdown",
   "metadata": {},
   "source": [
    "## Recommendations\n",
    "\n",
    "1. Real-time Feedback Integration: Implement a seamless feedback loop within the recipe platform, allowing users to provide feedback on recipes they have tried. Integrate features such as star ratings, reviews, and comments directly into the recipe pages to capture user sentiments in real time. Additionally, consider incorporating interactive elements such as thumbs-up or thumbs-down buttons for quick feedback.\n",
    "\n",
    "2. Personalized Feedback: Leverage user data and machine learning algorithms to generate personalized recipe recommendations based on individual feedback. Analyze user ratings, reviews, and preferences to understand their culinary tastes and tailor recipe suggestions accordingly. This personalized approach enhances user engagement and satisfaction by delivering relevant content.\n",
    "\n",
    "3. Automated Sentiment Analysis: Implement automated sentiment analysis algorithms to analyze user feedback and sentiment in real time. Natural language processing (NLP) techniques can extract insights from user reviews and comments to identify positive and negative sentiments associated with recipes. This allows for prompt adjustments and improvements based on user preferences.\n",
    "\n",
    "4. Recipe Categorization: Develop a robust categorization system that classifies recipes based on cuisines, ingredients, cooking methods, and dietary preferences. Incorporate a diverse range of cuisines, including international and regional dishes, to cater to a broad audience. Ensure that the categorization is dynamic and adaptable, allowing for the addition of new cuisines and recipes over time.\n",
    "\n",
    "5. User-Driven Tagging: Empower users to contribute to the categorization process by allowing them to tag recipes with relevant keywords and attributes. Implement user-generated tags and hashtags that reflect different cuisines, This crowdsourced approach enriches the categorization system and improves the accuracy of recipe recommendations.\n",
    "\n",
    "6. Visual Representation: Enhance the user experience by incorporating visual elements such as icons, flags, or flags to signify different cuisines within the recipe interface. Utilize intuitive design principles to make it easy for users to navigate and explore recipes within their preferred cuisine categories.\n",
    "\n",
    "7. Continuous Optimization: Regularly monitor and analyze user interactions, feedback, and preferences to iteratively optimize the real-time feedback mechanism and recipe categorization system. Use analytics tools to track user engagement metrics, identify patterns, and make data-driven decisions to enhance the overall user experience.\n"
   ]
  }
 ],
 "metadata": {
  "colab": {
   "provenance": []
  },
  "kernelspec": {
   "display_name": "Python 3 (ipykernel)",
   "language": "python",
   "name": "python3"
  },
  "language_info": {
   "codemirror_mode": {
    "name": "ipython",
    "version": 3
   },
   "file_extension": ".py",
   "mimetype": "text/x-python",
   "name": "python",
   "nbconvert_exporter": "python",
   "pygments_lexer": "ipython3",
   "version": "3.11.7"
  }
 },
 "nbformat": 4,
 "nbformat_minor": 4
}
